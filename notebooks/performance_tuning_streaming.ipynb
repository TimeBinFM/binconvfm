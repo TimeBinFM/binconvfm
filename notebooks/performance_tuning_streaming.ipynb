{
 "cells": [
  {
   "cell_type": "code",
   "execution_count": 1,
   "id": "b06e4e90-da18-4845-bf53-606baf7ffd3a",
   "metadata": {
    "scrolled": true
   },
   "outputs": [],
   "source": [
    "# import sys\n",
    "\n",
    "# !git clone https://github.com/TimeBinFM/binconvfm.git\n",
    "# %cd binconvfm\n",
    "# !{sys.executable} -m pip install ."
   ]
  },
  {
   "cell_type": "code",
   "execution_count": 2,
   "id": "dab0dc91-7f5b-486e-8d5d-efbe006e326a",
   "metadata": {},
   "outputs": [],
   "source": [
    "from binconvfm.utils.download.quick import get_file_names_per_dataset, get_target_dataset, dataset_to_window_tensors\n",
    "from binconvfm.utils.download.gift_eval import list_arrow_files"
   ]
  },
  {
   "cell_type": "markdown",
   "id": "ec6e3c5a-1a2f-405a-8579-90b72f60f839",
   "metadata": {},
   "source": [
    "## Base dataset preparation"
   ]
  },
  {
   "cell_type": "code",
   "execution_count": 3,
   "id": "ed9c71a4-e860-451b-a1e2-f25f0094d9af",
   "metadata": {},
   "outputs": [],
   "source": [
    "import datasets\n",
    "import torch\n",
    "\n",
    "def get_target_dataset(dataset_name: str, file_names_to_process: list[str], batch_size=8192, window_size=32, \n",
    "                       prediction_depth=1, step=1, pre_batch_ts_count=100):\n",
    "    def item_to_window_tensor(target):\n",
    "        target_tensor = torch.tensor(target)\n",
    "        target_tensor_shape = target_tensor.shape\n",
    "\n",
    "        unfold_dimension = len(target_tensor_shape) - 1 \n",
    "        \n",
    "        window_tensor = target_tensor.unfold(dimension=unfold_dimension, size=window_size+prediction_depth, step=step)\n",
    "        \n",
    "        window_tensor_shape = window_tensor.shape\n",
    "        result_tensor = window_tensor if len(window_tensor_shape) == 2 else window_tensor.flatten(0, 1)\n",
    "\n",
    "        return result_tensor\n",
    "\n",
    "    def to_window_tensors(batch):\n",
    "        tensors = [item_to_window_tensor(item) for item in batch['target']]\n",
    "        total_tensor = torch.cat(tensors)\n",
    "        return {\n",
    "            'target': torch.split(total_tensor, batch_size)\n",
    "        }\n",
    "                                 \n",
    "        \n",
    "    return (\n",
    "        datasets.load_dataset(\n",
    "            dataset_name,\n",
    "            split='train',\n",
    "            data_files=file_names_to_process,\n",
    "            streaming=True,\n",
    "        )\n",
    "            .select_columns(['target'])\n",
    "            .batch(pre_batch_ts_count)\n",
    "            .map(to_window_tensors)\n",
    "    )"
   ]
  },
  {
   "cell_type": "code",
   "execution_count": 4,
   "id": "247cd058-ae9a-45ef-930f-6e9c3541261b",
   "metadata": {},
   "outputs": [],
   "source": [
    "dataset_name = \"Salesforce/GiftEvalPretrain\"\n",
    "ds_name = 'buildings_900k'\n",
    "\n",
    "file_names_per_dataset = get_file_names_per_dataset(dataset_name)\n",
    "\n",
    "files_per_ds = 4\n",
    "\n",
    "def get_ds(ds_name):\n",
    "    file_names = file_names_per_dataset[ds_name][:files_per_ds]\n",
    "    return get_target_dataset(dataset_name, file_names)\n",
    "\n",
    "# ds1 = get_ds('buildings_900k')\n",
    "ds1 = get_ds('borg_cluster_data_2011')"
   ]
  },
  {
   "cell_type": "code",
   "execution_count": 5,
   "id": "7cdea952-7f79-4343-afb0-79b5c3bff624",
   "metadata": {},
   "outputs": [],
   "source": [
    "tmp = next(iter(ds1))"
   ]
  },
  {
   "cell_type": "markdown",
   "id": "1b304e6c-7dcf-46d0-a759-34b8016787d2",
   "metadata": {},
   "source": [
    "## Model preparation"
   ]
  },
  {
   "cell_type": "code",
   "execution_count": 6,
   "id": "85e231dc-1f91-4ddc-bdd6-fedb9b891a29",
   "metadata": {},
   "outputs": [],
   "source": [
    "import torch\n",
    "from torch.utils.data import Dataset, DataLoader\n",
    "import torch.nn.functional as F\n",
    "import pytorch_lightning as pl\n",
    "from torch import nn\n",
    "\n",
    "class LinearRegressionModel(pl.LightningModule):\n",
    "    def __init__(self):\n",
    "        super().__init__()\n",
    "        self.linear = nn.Linear(32, 1)\n",
    "\n",
    "    def forward(self, x):\n",
    "        return self.linear(x)  # Output shape: [batch_size, 1]\n",
    "\n",
    "    def training_step(self, batch, batch_idx):\n",
    "        x, y = batch\n",
    "        x = x.float()\n",
    "        y = y.float()\n",
    "        y_hat = self(x)\n",
    "        loss = F.mse_loss(y_hat, y)\n",
    "        self.log(\"train_loss\", loss)\n",
    "        return loss\n",
    "\n",
    "    def configure_optimizers(self):\n",
    "        # GPU-accelerated AdamW (fused)\n",
    "        return torch.optim.AdamW(self.parameters(), lr=1e-3, fused=True)"
   ]
  },
  {
   "cell_type": "markdown",
   "id": "302f9aba-d1d4-42af-b1c7-adbc743d9cd5",
   "metadata": {},
   "source": [
    "## Preprocess data"
   ]
  },
  {
   "cell_type": "code",
   "execution_count": 7,
   "id": "af83df8f-745d-4f2c-970f-db2e13ca4942",
   "metadata": {},
   "outputs": [],
   "source": [
    "import torch\n",
    "from torch.utils.data import Dataset\n",
    "\n",
    "class TensorDataset(Dataset):\n",
    "    def __init__(self, tensor: torch.Tensor):\n",
    "        self.tensor = tensor\n",
    "\n",
    "    def __len__(self):\n",
    "        return self.tensor.size(0)\n",
    "\n",
    "    def __getitem__(self, idx):\n",
    "        x = self.tensor[idx, :-1]\n",
    "        y = self.tensor[idx, -1]\n",
    "        return x, y"
   ]
  },
  {
   "cell_type": "code",
   "execution_count": 8,
   "id": "139aaf61-ceb5-4276-a22f-387e017a09a3",
   "metadata": {},
   "outputs": [],
   "source": [
    "import torch\n",
    "from torch.utils.data import IterableDataset\n",
    "\n",
    "class WrapperDataset(IterableDataset):\n",
    "    def __init__(self, base_dataset):\n",
    "        super().__init__()\n",
    "        self.base_dataset = base_dataset\n",
    "\n",
    "    def __iter__(self):\n",
    "        for batch in self.base_dataset:\n",
    "            for item in batch['target']:\n",
    "                X = item[:, :-1]\n",
    "                y = item[:, -1:]\n",
    "                yield X, y"
   ]
  },
  {
   "cell_type": "code",
   "execution_count": 9,
   "id": "dcd1e9ce-50fb-43a3-b3fe-7784e332e8e7",
   "metadata": {},
   "outputs": [],
   "source": [
    "window_tensor_dataset = WrapperDataset(ds1)"
   ]
  },
  {
   "cell_type": "markdown",
   "id": "9195235a-95ac-4714-8f89-17aa6570b02d",
   "metadata": {},
   "source": [
    "## Train a model"
   ]
  },
  {
   "cell_type": "code",
   "execution_count": 10,
   "id": "00dc612d-4832-4bd9-8df3-24d238b0ab80",
   "metadata": {},
   "outputs": [
    {
     "name": "stderr",
     "output_type": "stream",
     "text": [
      "/venv/main/lib/python3.12/site-packages/lightning_fabric/connector.py:571: `precision=16` is supported for historical reasons but its usage is discouraged. Please set your precision to 16-mixed instead!\n",
      "Using 16bit Automatic Mixed Precision (AMP)\n",
      "💡 Tip: For seamless cloud uploads and versioning, try installing [litmodels](https://pypi.org/project/litmodels/) to enable LitModelCheckpoint, which syncs automatically with the Lightning model registry.\n",
      "GPU available: True (cuda), used: True\n",
      "TPU available: False, using: 0 TPU cores\n",
      "HPU available: False, using: 0 HPUs\n",
      "/venv/main/lib/python3.12/site-packages/pytorch_lightning/trainer/connectors/logger_connector/logger_connector.py:76: Starting from v1.9.0, `tensorboardX` has been removed as a dependency of the `pytorch_lightning` package, due to potential conflicts with other packages in the ML ecosystem. For this reason, `logger=True` will use `CSVLogger` as the default logger, unless the `tensorboard` or `tensorboardX` packages are found. Please `pip install lightning[extra]` or one of them to enable TensorBoard support by default\n",
      "You are using a CUDA device ('NVIDIA A100-SXM4-40GB') that has Tensor Cores. To properly utilize them, you should set `torch.set_float32_matmul_precision('medium' | 'high')` which will trade-off precision for performance. For more details, read https://pytorch.org/docs/stable/generated/torch.set_float32_matmul_precision.html#torch.set_float32_matmul_precision\n",
      "LOCAL_RANK: 0 - CUDA_VISIBLE_DEVICES: [0]\n",
      "/venv/main/lib/python3.12/site-packages/pytorch_lightning/utilities/model_summary/model_summary.py:231: Precision 16-mixed is not supported by the model summary.  Estimated model size in MB will not be accurate. Using 32 bits instead.\n",
      "\n",
      "  | Name   | Type   | Params | Mode \n",
      "------------------------------------------\n",
      "0 | linear | Linear | 33     | train\n",
      "------------------------------------------\n",
      "33        Trainable params\n",
      "0         Non-trainable params\n",
      "33        Total params\n",
      "0.000     Total estimated model params size (MB)\n",
      "1         Modules in train mode\n",
      "0         Modules in eval mode\n",
      "/venv/main/lib/python3.12/site-packages/pytorch_lightning/trainer/connectors/data_connector.py:433: The 'train_dataloader' does not have many workers which may be a bottleneck. Consider increasing the value of the `num_workers` argument` to `num_workers=255` in the `DataLoader` to improve performance.\n"
     ]
    },
    {
     "data": {
      "application/vnd.jupyter.widget-view+json": {
       "model_id": "6172503606d54df2a10916715b07dcf6",
       "version_major": 2,
       "version_minor": 0
      },
      "text/plain": [
       "Training: |          | 0/? [00:00<?, ?it/s]"
      ]
     },
     "metadata": {},
     "output_type": "display_data"
    },
    {
     "name": "stderr",
     "output_type": "stream",
     "text": [
      "`Trainer.fit` stopped: `max_epochs=1` reached.\n"
     ]
    }
   ],
   "source": [
    "import torch\n",
    "import pytorch_lightning as pl\n",
    "from pytorch_lightning.profilers import PyTorchProfiler\n",
    "from torch.utils.data import DataLoader\n",
    "\n",
    "# ----------------------------\n",
    "# Dataset and DataLoader\n",
    "# ----------------------------\n",
    "# window_tensor_dataset must be a torch.Tensor dataset or TensorDataset\n",
    "dataloader = DataLoader(\n",
    "    window_tensor_dataset,\n",
    "    shuffle=False,\n",
    "    batch_size=None,\n",
    "    num_workers=1,        # CPU parallelism for data loading\n",
    "    pin_memory=True,       # speeds up CPU->GPU transfer\n",
    "    persistent_workers=True,  # keep workers alive between epochs\n",
    "    prefetch_factor=1000,     # prefetch batches per worker\n",
    ")\n",
    "\n",
    "# # ----------------------------\n",
    "# # PyTorch Lightning Profiler\n",
    "# # ----------------------------\n",
    "# profiler = PyTorchProfiler(\n",
    "#     schedule=torch.profiler.schedule(wait=50, warmup=50, active=5, repeat=1),\n",
    "#     on_trace_ready=torch.profiler.tensorboard_trace_handler(\"/workspace\"),\n",
    "#     record_shapes=True,\n",
    "#     profile_memory=True,\n",
    "#     with_stack=True,\n",
    "# )\n",
    "\n",
    "# ----------------------------\n",
    "# Trainer\n",
    "# ----------------------------\n",
    "trainer = pl.Trainer(\n",
    "    max_epochs=1,\n",
    "    accelerator=\"gpu\",         # force GPU\n",
    "    devices=1,                 # single GPU\n",
    "    precision=16,              # automatic mixed precision for speed\n",
    "    # profiler=profiler,\n",
    "    gradient_clip_val=0.0,     # avoid gradient clipping overhead\n",
    ")\n",
    "\n",
    "# ----------------------------\n",
    "# Model to GPU\n",
    "# ----------------------------\n",
    "model = LinearRegressionModel().to(\"cuda\")\n",
    "\n",
    "# ----------------------------\n",
    "# Training\n",
    "# ----------------------------\n",
    "trainer.fit(model, dataloader)"
   ]
  },
  {
   "cell_type": "code",
   "execution_count": null,
   "id": "33a4c3b3-2fc2-42d3-a0b8-9632979f18bb",
   "metadata": {},
   "outputs": [],
   "source": []
  }
 ],
 "metadata": {
  "kernelspec": {
   "display_name": "Python3 (ipykernel)",
   "language": "python",
   "name": "python3"
  },
  "language_info": {
   "codemirror_mode": {
    "name": "ipython",
    "version": 3
   },
   "file_extension": ".py",
   "mimetype": "text/x-python",
   "name": "python",
   "nbconvert_exporter": "python",
   "pygments_lexer": "ipython3",
   "version": "3.12.11"
  }
 },
 "nbformat": 4,
 "nbformat_minor": 5
}
