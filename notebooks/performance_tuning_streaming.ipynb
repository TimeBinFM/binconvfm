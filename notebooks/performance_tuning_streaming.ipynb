{
 "cells": [
  {
   "cell_type": "code",
   "execution_count": 1,
   "id": "b06e4e90-da18-4845-bf53-606baf7ffd3a",
   "metadata": {
    "scrolled": true
   },
   "outputs": [],
   "source": [
    "# import sys\n",
    "\n",
    "# !git clone https://github.com/TimeBinFM/binconvfm.git\n",
    "# %cd binconvfm\n",
    "# !{sys.executable} -m pip install ."
   ]
  },
  {
   "cell_type": "markdown",
   "id": "ec6e3c5a-1a2f-405a-8579-90b72f60f839",
   "metadata": {},
   "source": [
    "## Base dataset preparation"
   ]
  },
  {
   "cell_type": "code",
   "execution_count": 2,
   "id": "885ce309-6207-4168-83c4-d806c5c0d457",
   "metadata": {},
   "outputs": [],
   "source": [
    "import datasets\n",
    "import torch\n",
    "from preprocessing.common import TensorIterableDataset\n",
    "\n",
    "class GiftEvalWindowedDataset(TensorIterableDataset):\n",
    "    def __init__(self, dataset_name: str, file_names: list[str], window_size: int, \n",
    "        prediction_depth: int, step: int, batch_size: int, pre_batch_timeseries_count: int):\n",
    "        super().__init__()\n",
    "\n",
    "        self.dataset_name = dataset_name\n",
    "        self.file_names = file_names\n",
    "        self.window_size = window_size\n",
    "        self.prediction_depth = prediction_depth\n",
    "        self.batch_size = batch_size\n",
    "        self.step = step\n",
    "        self.pre_batch_timeseries_count = pre_batch_timeseries_count\n",
    "        self.dataset = self._build_dataset()\n",
    "\n",
    "    def _build_dataset(self):\n",
    "        return (\n",
    "            datasets.load_dataset(\n",
    "                self.dataset_name,\n",
    "                split='train',\n",
    "                data_files=self.file_names,\n",
    "                streaming=True,\n",
    "            )\n",
    "            .select_columns([\"target\"])\n",
    "            .batch(self.pre_batch_timeseries_count)\n",
    "            .map(self._to_window_tensors)\n",
    "        )\n",
    "        \n",
    "    def _item_to_window_tensor(self, target):\n",
    "        target_tensor = torch.tensor(target)\n",
    "        target_tensor_shape = target_tensor.shape\n",
    "\n",
    "        unfold_dimension = len(target_tensor_shape) - 1 \n",
    "        \n",
    "        window_tensor = target_tensor.unfold(dimension=unfold_dimension, size=self.window_size+self.prediction_depth, step=self.step)\n",
    "        \n",
    "        window_tensor_shape = window_tensor.shape\n",
    "        result_tensor = window_tensor if len(window_tensor_shape) == 2 else window_tensor.flatten(0, 1)\n",
    "\n",
    "        return result_tensor\n",
    "\n",
    "    def _to_window_tensors(self, batch):\n",
    "        tensors = [self._item_to_window_tensor(item) for item in batch['target']]\n",
    "        total_tensor = torch.cat(tensors)\n",
    "        return {\n",
    "            'target': torch.split(total_tensor, self.batch_size)\n",
    "        }\n",
    "        \n",
    "    def __iter__(self):\n",
    "        for dict in self.dataset:\n",
    "            for batch in dict['target']:\n",
    "                yield batch\n"
   ]
  },
  {
   "cell_type": "code",
   "execution_count": 3,
   "id": "247cd058-ae9a-45ef-930f-6e9c3541261b",
   "metadata": {},
   "outputs": [
    {
     "name": "stdout",
     "output_type": "stream",
     "text": [
      "['borg_cluster_data_2011/data-00000-of-00031.arrow']\n",
      "['borg_cluster_data_2011/data-00001-of-00031.arrow']\n",
      "['borg_cluster_data_2011/data-00002-of-00031.arrow']\n",
      "['borg_cluster_data_2011/data-00003-of-00031.arrow']\n",
      "['borg_cluster_data_2011/data-00004-of-00031.arrow']\n",
      "['borg_cluster_data_2011/data-00005-of-00031.arrow']\n",
      "['borg_cluster_data_2011/data-00006-of-00031.arrow']\n",
      "['borg_cluster_data_2011/data-00007-of-00031.arrow']\n",
      "['borg_cluster_data_2011/data-00008-of-00031.arrow']\n",
      "['borg_cluster_data_2011/data-00009-of-00031.arrow']\n",
      "['borg_cluster_data_2011/data-00010-of-00031.arrow']\n",
      "['borg_cluster_data_2011/data-00011-of-00031.arrow']\n",
      "['borg_cluster_data_2011/data-00012-of-00031.arrow']\n",
      "['borg_cluster_data_2011/data-00013-of-00031.arrow']\n",
      "['borg_cluster_data_2011/data-00014-of-00031.arrow']\n",
      "['borg_cluster_data_2011/data-00015-of-00031.arrow']\n",
      "['borg_cluster_data_2011/data-00016-of-00031.arrow']\n",
      "['borg_cluster_data_2011/data-00017-of-00031.arrow']\n",
      "['borg_cluster_data_2011/data-00018-of-00031.arrow']\n",
      "['borg_cluster_data_2011/data-00019-of-00031.arrow']\n",
      "['borg_cluster_data_2011/data-00020-of-00031.arrow']\n",
      "['borg_cluster_data_2011/data-00021-of-00031.arrow']\n",
      "['borg_cluster_data_2011/data-00022-of-00031.arrow']\n",
      "['borg_cluster_data_2011/data-00023-of-00031.arrow']\n",
      "['borg_cluster_data_2011/data-00024-of-00031.arrow']\n",
      "['borg_cluster_data_2011/data-00025-of-00031.arrow']\n",
      "['borg_cluster_data_2011/data-00026-of-00031.arrow']\n",
      "['borg_cluster_data_2011/data-00027-of-00031.arrow']\n",
      "['borg_cluster_data_2011/data-00028-of-00031.arrow']\n",
      "['borg_cluster_data_2011/data-00029-of-00031.arrow']\n",
      "['borg_cluster_data_2011/data-00030-of-00031.arrow']\n",
      "['borg_cluster_data_2011/data-00000-of-00031.arrow', 'borg_cluster_data_2011/data-00001-of-00031.arrow', 'borg_cluster_data_2011/data-00002-of-00031.arrow', 'borg_cluster_data_2011/data-00003-of-00031.arrow', 'borg_cluster_data_2011/data-00004-of-00031.arrow', 'borg_cluster_data_2011/data-00005-of-00031.arrow', 'borg_cluster_data_2011/data-00006-of-00031.arrow', 'borg_cluster_data_2011/data-00007-of-00031.arrow', 'borg_cluster_data_2011/data-00008-of-00031.arrow', 'borg_cluster_data_2011/data-00009-of-00031.arrow', 'borg_cluster_data_2011/data-00010-of-00031.arrow', 'borg_cluster_data_2011/data-00011-of-00031.arrow', 'borg_cluster_data_2011/data-00012-of-00031.arrow', 'borg_cluster_data_2011/data-00013-of-00031.arrow', 'borg_cluster_data_2011/data-00014-of-00031.arrow', 'borg_cluster_data_2011/data-00015-of-00031.arrow', 'borg_cluster_data_2011/data-00016-of-00031.arrow', 'borg_cluster_data_2011/data-00017-of-00031.arrow', 'borg_cluster_data_2011/data-00018-of-00031.arrow', 'borg_cluster_data_2011/data-00019-of-00031.arrow', 'borg_cluster_data_2011/data-00020-of-00031.arrow', 'borg_cluster_data_2011/data-00021-of-00031.arrow', 'borg_cluster_data_2011/data-00022-of-00031.arrow', 'borg_cluster_data_2011/data-00023-of-00031.arrow', 'borg_cluster_data_2011/data-00024-of-00031.arrow', 'borg_cluster_data_2011/data-00025-of-00031.arrow', 'borg_cluster_data_2011/data-00026-of-00031.arrow', 'borg_cluster_data_2011/data-00027-of-00031.arrow', 'borg_cluster_data_2011/data-00028-of-00031.arrow', 'borg_cluster_data_2011/data-00029-of-00031.arrow', 'borg_cluster_data_2011/data-00030-of-00031.arrow']\n"
     ]
    },
    {
     "data": {
      "application/vnd.jupyter.widget-view+json": {
       "model_id": "9cf539810b0449d7b926cceeda3618a1",
       "version_major": 2,
       "version_minor": 0
      },
      "text/plain": [
       "Resolving data files:   0%|          | 0/31 [00:00<?, ?it/s]"
      ]
     },
     "metadata": {},
     "output_type": "display_data"
    },
    {
     "data": {
      "application/vnd.jupyter.widget-view+json": {
       "model_id": "eaec2d9278a9494b95d41590796c21ef",
       "version_major": 2,
       "version_minor": 0
      },
      "text/plain": [
       "Resolving data files:   0%|          | 0/31 [00:00<?, ?it/s]"
      ]
     },
     "metadata": {},
     "output_type": "display_data"
    }
   ],
   "source": [
    "from binconvfm.utils.download.gift_eval_windowed_dataset import GiftEvalWindowedDataset\n",
    "from binconvfm.utils.download.gift_eval_util import get_file_names_per_dataset\n",
    "\n",
    "dataset_name = \"Salesforce/GiftEvalPretrain\"\n",
    "ds_name = 'buildings_900k'\n",
    "\n",
    "file_names_per_dataset = get_file_names_per_dataset(dataset_name)\n",
    "\n",
    "files_per_ds = 8\n",
    "\n",
    "# batch_size=8192, \n",
    "\n",
    "def get_ds(file_names, window_size=32, prediction_depth=1, step=1, batch_size=8192, pre_batch_ts_count=100):\n",
    "    return GiftEvalWindowedDataset(\n",
    "        dataset_name,\n",
    "        file_names,\n",
    "        window_size,\n",
    "        prediction_depth,\n",
    "        step,\n",
    "        batch_size,\n",
    "        pre_batch_ts_count\n",
    "    )\n",
    "\n",
    "# ds1 = get_ds('buildings_900k')\n",
    "file_names = file_names_per_dataset['borg_cluster_data_2011']#[:files_per_ds]\n",
    "total_ds = get_ds(file_names)"
   ]
  },
  {
   "cell_type": "code",
   "execution_count": 5,
   "id": "368980cc-ab0f-4992-a3ae-32367f00ca4d",
   "metadata": {},
   "outputs": [],
   "source": [
    "from binconvfm.utils.download.window_mixing_dataset import WindowMixingDataset\n",
    "\n",
    "mixing_dataset = WindowMixingDataset(total_ds, prediction_depth=1, seed=42, batch_size=8192, prefetch_depth=1024)"
   ]
  },
  {
   "cell_type": "markdown",
   "id": "1b304e6c-7dcf-46d0-a759-34b8016787d2",
   "metadata": {},
   "source": [
    "## Model preparation"
   ]
  },
  {
   "cell_type": "code",
   "execution_count": 6,
   "id": "85e231dc-1f91-4ddc-bdd6-fedb9b891a29",
   "metadata": {},
   "outputs": [],
   "source": [
    "import torch\n",
    "from torch.utils.data import Dataset, DataLoader\n",
    "import torch.nn.functional as F\n",
    "import pytorch_lightning as pl\n",
    "from torch import nn\n",
    "\n",
    "class LinearRegressionModel(pl.LightningModule):\n",
    "    def __init__(self):\n",
    "        super().__init__()\n",
    "        self.linear = nn.Linear(32, 1)\n",
    "\n",
    "    def forward(self, x):\n",
    "        return self.linear(x)  # Output shape: [batch_size, 1]\n",
    "\n",
    "    def training_step(self, batch, batch_idx):\n",
    "        x, y = batch\n",
    "        x = x.float()\n",
    "        y = y.float()\n",
    "        y_hat = self(x)\n",
    "        loss = F.mse_loss(y_hat, y)\n",
    "        self.log(\"train_loss\", loss)\n",
    "        return loss\n",
    "\n",
    "    def configure_optimizers(self):\n",
    "        # GPU-accelerated AdamW (fused)\n",
    "        return torch.optim.AdamW(self.parameters(), lr=1e-3, fused=True)"
   ]
  },
  {
   "cell_type": "markdown",
   "id": "9195235a-95ac-4714-8f89-17aa6570b02d",
   "metadata": {},
   "source": [
    "## Train a model"
   ]
  },
  {
   "cell_type": "code",
   "execution_count": null,
   "id": "00dc612d-4832-4bd9-8df3-24d238b0ab80",
   "metadata": {},
   "outputs": [
    {
     "name": "stderr",
     "output_type": "stream",
     "text": [
      "Using 16bit Automatic Mixed Precision (AMP)\n",
      "💡 Tip: For seamless cloud uploads and versioning, try installing [litmodels](https://pypi.org/project/litmodels/) to enable LitModelCheckpoint, which syncs automatically with the Lightning model registry.\n",
      "GPU available: True (cuda), used: True\n",
      "TPU available: False, using: 0 TPU cores\n",
      "HPU available: False, using: 0 HPUs\n",
      "LOCAL_RANK: 0 - CUDA_VISIBLE_DEVICES: [0]\n",
      "\n",
      "  | Name   | Type   | Params | Mode \n",
      "------------------------------------------\n",
      "0 | linear | Linear | 33     | train\n",
      "------------------------------------------\n",
      "33        Trainable params\n",
      "0         Non-trainable params\n",
      "33        Total params\n",
      "0.000     Total estimated model params size (MB)\n",
      "1         Modules in train mode\n",
      "0         Modules in eval mode\n"
     ]
    },
    {
     "data": {
      "application/vnd.jupyter.widget-view+json": {
       "model_id": "c6e356a0d036417cbdfb6eaa9b49e5fe",
       "version_major": 2,
       "version_minor": 0
      },
      "text/plain": [
       "Training: |          | 0/? [00:00<?, ?it/s]"
      ]
     },
     "metadata": {},
     "output_type": "display_data"
    }
   ],
   "source": [
    "import torch\n",
    "import pytorch_lightning as pl\n",
    "from pytorch_lightning.profilers import PyTorchProfiler\n",
    "from torch.utils.data import DataLoader\n",
    "\n",
    "# ----------------------------\n",
    "# Dataset and DataLoader\n",
    "# ----------------------------\n",
    "# window_tensor_dataset must be a torch.Tensor dataset or TensorDataset\n",
    "dataloader = DataLoader(\n",
    "    mixing_dataset,\n",
    "    shuffle=False,\n",
    "    batch_size=None,\n",
    "    num_workers=8,        # CPU parallelism for data loading\n",
    "    pin_memory=True,       # speeds up CPU->GPU transfer\n",
    "    persistent_workers=True,  # keep workers alive between epochs\n",
    "    prefetch_factor=1000,     # prefetch batches per worker\n",
    ")\n",
    "\n",
    "# ----------------------------\n",
    "# Trainer\n",
    "# ----------------------------\n",
    "trainer = pl.Trainer(\n",
    "    max_epochs=1,\n",
    "    accelerator=\"gpu\",         # force GPU\n",
    "    devices=1,                 # single GPU\n",
    "    precision=16,              # automatic mixed precision for speed\n",
    "    gradient_clip_val=0.0,     # avoid gradient clipping overhead\n",
    ")\n",
    "\n",
    "# ----------------------------\n",
    "# Model to GPU\n",
    "# ----------------------------\n",
    "model = LinearRegressionModel().to(\"cuda\")\n",
    "\n",
    "# ----------------------------\n",
    "# Training\n",
    "# ----------------------------\n",
    "trainer.fit(model, dataloader)"
   ]
  },
  {
   "cell_type": "code",
   "execution_count": null,
   "id": "46eb5355-bcf2-4a95-bb42-e124aecb88e4",
   "metadata": {},
   "outputs": [],
   "source": []
  }
 ],
 "metadata": {
  "kernelspec": {
   "display_name": "Python3 (ipykernel)",
   "language": "python",
   "name": "python3"
  },
  "language_info": {
   "codemirror_mode": {
    "name": "ipython",
    "version": 3
   },
   "file_extension": ".py",
   "mimetype": "text/x-python",
   "name": "python",
   "nbconvert_exporter": "python",
   "pygments_lexer": "ipython3",
   "version": "3.12.11"
  }
 },
 "nbformat": 4,
 "nbformat_minor": 5
}
