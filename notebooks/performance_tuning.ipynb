{
 "cells": [
  {
   "cell_type": "code",
   "execution_count": 1,
   "id": "b06e4e90-da18-4845-bf53-606baf7ffd3a",
   "metadata": {
    "scrolled": true
   },
   "outputs": [],
   "source": [
    "# import sys\n",
    "\n",
    "# !git clone https://github.com/TimeBinFM/binconvfm.git\n",
    "# %cd binconvfm\n",
    "# !{sys.executable} -m pip install ."
   ]
  },
  {
   "cell_type": "code",
   "execution_count": 2,
   "id": "dab0dc91-7f5b-486e-8d5d-efbe006e326a",
   "metadata": {},
   "outputs": [],
   "source": [
    "from binconvfm.utils.download.quick import get_file_names_per_dataset, get_target_dataset, dataset_to_window_tensors\n",
    "from binconvfm.utils.download.gift_eval import list_arrow_files"
   ]
  },
  {
   "cell_type": "markdown",
   "id": "ec6e3c5a-1a2f-405a-8579-90b72f60f839",
   "metadata": {},
   "source": [
    "## Base dataset preparation"
   ]
  },
  {
   "cell_type": "code",
   "execution_count": 3,
   "id": "247cd058-ae9a-45ef-930f-6e9c3541261b",
   "metadata": {},
   "outputs": [
    {
     "data": {
      "application/vnd.jupyter.widget-view+json": {
       "model_id": "73871e6937bc4f31b9f12659887c35d6",
       "version_major": 2,
       "version_minor": 0
      },
      "text/plain": [
       "Generating train split: 0 examples [00:00, ? examples/s]"
      ]
     },
     "metadata": {},
     "output_type": "display_data"
    }
   ],
   "source": [
    "dataset_name = \"Salesforce/GiftEvalPretrain\"\n",
    "file_names_per_dataset = get_file_names_per_dataset(dataset_name)\n",
    "\n",
    "files_per_ds = 4\n",
    "\n",
    "def get_ds(ds_name):\n",
    "    file_names = file_names_per_dataset[ds_name][:files_per_ds]\n",
    "    return get_target_dataset(dataset_name, file_names).select_columns(['target'])\n",
    "\n",
    "ds1 = get_ds('buildings_900k')\n",
    "# ds2 = get_ds('borg_cluster_data_2011')"
   ]
  },
  {
   "cell_type": "markdown",
   "id": "1b304e6c-7dcf-46d0-a759-34b8016787d2",
   "metadata": {},
   "source": [
    "## Model preparation"
   ]
  },
  {
   "cell_type": "code",
   "execution_count": 4,
   "id": "85e231dc-1f91-4ddc-bdd6-fedb9b891a29",
   "metadata": {},
   "outputs": [],
   "source": [
    "import torch\n",
    "from torch.utils.data import Dataset, DataLoader\n",
    "import torch.nn.functional as F\n",
    "import pytorch_lightning as pl\n",
    "from torch import nn\n",
    "\n",
    "class LinearRegressionModel(pl.LightningModule):\n",
    "    def __init__(self):\n",
    "        super().__init__()\n",
    "        self.linear = nn.Linear(32, 1)\n",
    "\n",
    "    def forward(self, x):\n",
    "        # x: [batch_size, 32, 1] => squeeze last dim to [batch_size, 32]\n",
    "        x = x.squeeze(-1)\n",
    "        return self.linear(x)  # Output shape: [batch_size, 1]\n",
    "\n",
    "    def training_step(self, batch, batch_idx):\n",
    "        x, y = batch\n",
    "        x = x.float()\n",
    "        y = y.float()\n",
    "        y = y.squeeze(-1)  # shape: [batch_size, 1]\n",
    "        y_hat = self(x)\n",
    "        loss = F.mse_loss(y_hat, y)\n",
    "        self.log(\"train_loss\", loss)\n",
    "        return loss\n",
    "\n",
    "    def configure_optimizers(self):\n",
    "        # GPU-accelerated AdamW (fused)\n",
    "        return torch.optim.AdamW(self.parameters(), lr=1e-3, fused=True)"
   ]
  },
  {
   "cell_type": "markdown",
   "id": "302f9aba-d1d4-42af-b1c7-adbc743d9cd5",
   "metadata": {},
   "source": [
    "## Preprocess data"
   ]
  },
  {
   "cell_type": "code",
   "execution_count": 5,
   "id": "af83df8f-745d-4f2c-970f-db2e13ca4942",
   "metadata": {},
   "outputs": [],
   "source": [
    "import torch\n",
    "from torch.utils.data import Dataset\n",
    "\n",
    "class TensorDataset(Dataset):\n",
    "    def __init__(self, tensor: torch.Tensor):\n",
    "        self.tensor = tensor\n",
    "\n",
    "    def __len__(self):\n",
    "        return self.tensor.size(0)\n",
    "\n",
    "    def __getitem__(self, idx):\n",
    "        x = self.tensor[idx, :-1]\n",
    "        y = self.tensor[idx, -1]\n",
    "        return x, y"
   ]
  },
  {
   "cell_type": "code",
   "execution_count": 6,
   "id": "7ffa2d5c-7149-4f89-a603-00b8fe426f5f",
   "metadata": {},
   "outputs": [],
   "source": [
    "window_size = 32\n",
    "prediction_depth = 1\n",
    "step = 1\n",
    "\n",
    "window_tensor = dataset_to_window_tensors(ds1, window_size, prediction_depth, step)\n",
    "\n",
    "# def preprocess_data(item):\n",
    "#     target = item['target']\n",
    "#     target_shape = target.shape\n",
    "    \n",
    "#     target_tensor = torch.cat(list(target), dim=0) if len(target_shape) > 1 else target\n",
    "#     windowed_tensor = target_tensor.unfold(dimension=0, size=window_size+prediction_depth, step=step)\n",
    "\n",
    "#     return {\n",
    "#         'target': windowed_tensor\n",
    "#     }\n",
    "    \n",
    "# ds_preprocessed = ds1.map(preprocess_data, batched=False)"
   ]
  },
  {
   "cell_type": "code",
   "execution_count": 7,
   "id": "dcd1e9ce-50fb-43a3-b3fe-7784e332e8e7",
   "metadata": {},
   "outputs": [],
   "source": [
    "window_tensor_dataset = TensorDataset(window_tensor)"
   ]
  },
  {
   "cell_type": "markdown",
   "id": "9195235a-95ac-4714-8f89-17aa6570b02d",
   "metadata": {},
   "source": [
    "## Train a model"
   ]
  },
  {
   "cell_type": "code",
   "execution_count": 8,
   "id": "00dc612d-4832-4bd9-8df3-24d238b0ab80",
   "metadata": {},
   "outputs": [
    {
     "name": "stderr",
     "output_type": "stream",
     "text": [
      "/venv/main/lib/python3.12/site-packages/lightning_fabric/connector.py:571: `precision=16` is supported for historical reasons but its usage is discouraged. Please set your precision to 16-mixed instead!\n",
      "Using 16bit Automatic Mixed Precision (AMP)\n",
      "💡 Tip: For seamless cloud uploads and versioning, try installing [litmodels](https://pypi.org/project/litmodels/) to enable LitModelCheckpoint, which syncs automatically with the Lightning model registry.\n",
      "GPU available: True (cuda), used: True\n",
      "TPU available: False, using: 0 TPU cores\n",
      "HPU available: False, using: 0 HPUs\n",
      "/venv/main/lib/python3.12/site-packages/pytorch_lightning/trainer/connectors/logger_connector/logger_connector.py:76: Starting from v1.9.0, `tensorboardX` has been removed as a dependency of the `pytorch_lightning` package, due to potential conflicts with other packages in the ML ecosystem. For this reason, `logger=True` will use `CSVLogger` as the default logger, unless the `tensorboard` or `tensorboardX` packages are found. Please `pip install lightning[extra]` or one of them to enable TensorBoard support by default\n",
      "You are using a CUDA device ('NVIDIA A100-SXM4-40GB') that has Tensor Cores. To properly utilize them, you should set `torch.set_float32_matmul_precision('medium' | 'high')` which will trade-off precision for performance. For more details, read https://pytorch.org/docs/stable/generated/torch.set_float32_matmul_precision.html#torch.set_float32_matmul_precision\n",
      "LOCAL_RANK: 0 - CUDA_VISIBLE_DEVICES: [0]\n",
      "/venv/main/lib/python3.12/site-packages/pytorch_lightning/utilities/model_summary/model_summary.py:231: Precision 16-mixed is not supported by the model summary.  Estimated model size in MB will not be accurate. Using 32 bits instead.\n",
      "\n",
      "  | Name   | Type   | Params | Mode \n",
      "------------------------------------------\n",
      "0 | linear | Linear | 33     | train\n",
      "------------------------------------------\n",
      "33        Trainable params\n",
      "0         Non-trainable params\n",
      "33        Total params\n",
      "0.000     Total estimated model params size (MB)\n",
      "1         Modules in train mode\n",
      "0         Modules in eval mode\n"
     ]
    },
    {
     "data": {
      "application/vnd.jupyter.widget-view+json": {
       "model_id": "0171d0d704854e71a17f435be753d2dc",
       "version_major": 2,
       "version_minor": 0
      },
      "text/plain": [
       "Training: |          | 0/? [00:00<?, ?it/s]"
      ]
     },
     "metadata": {},
     "output_type": "display_data"
    },
    {
     "name": "stderr",
     "output_type": "stream",
     "text": [
      "/tmp/ipykernel_36053/3418869814.py:23: UserWarning: Using a target size (torch.Size([32768])) that is different to the input size (torch.Size([32768, 1])). This will likely lead to incorrect results due to broadcasting. Please ensure they have the same size.\n",
      "  loss = F.mse_loss(y_hat, y)\n",
      "/tmp/ipykernel_36053/3418869814.py:23: UserWarning: Using a target size (torch.Size([28096])) that is different to the input size (torch.Size([28096, 1])). This will likely lead to incorrect results due to broadcasting. Please ensure they have the same size.\n",
      "  loss = F.mse_loss(y_hat, y)\n",
      "`Trainer.fit` stopped: `max_epochs=1` reached.\n"
     ]
    }
   ],
   "source": [
    "import torch\n",
    "import pytorch_lightning as pl\n",
    "from pytorch_lightning.profilers import PyTorchProfiler\n",
    "from torch.utils.data import DataLoader\n",
    "\n",
    "# ----------------------------\n",
    "# Dataset and DataLoader\n",
    "# ----------------------------\n",
    "# window_tensor_dataset must be a torch.Tensor dataset or TensorDataset\n",
    "dataloader = DataLoader(\n",
    "    window_tensor_dataset,\n",
    "    shuffle=False,\n",
    "    batch_size=8192 * 4,       # large batch size to fully utilize GPU\n",
    "    num_workers=32,        # CPU parallelism for data loading\n",
    "    pin_memory=True,       # speeds up CPU->GPU transfer\n",
    "    persistent_workers=True,  # keep workers alive between epochs\n",
    "    prefetch_factor=4,     # prefetch batches per worker\n",
    ")\n",
    "\n",
    "# # ----------------------------\n",
    "# # PyTorch Lightning Profiler\n",
    "# # ----------------------------\n",
    "# profiler = PyTorchProfiler(\n",
    "#     schedule=torch.profiler.schedule(wait=50, warmup=50, active=5, repeat=1),\n",
    "#     on_trace_ready=torch.profiler.tensorboard_trace_handler(\"/workspace\"),\n",
    "#     record_shapes=True,\n",
    "#     profile_memory=True,\n",
    "#     with_stack=True,\n",
    "# )\n",
    "\n",
    "# ----------------------------\n",
    "# Trainer\n",
    "# ----------------------------\n",
    "trainer = pl.Trainer(\n",
    "    max_epochs=1,\n",
    "    accelerator=\"gpu\",         # force GPU\n",
    "    devices=1,                 # single GPU\n",
    "    precision=16,              # automatic mixed precision for speed\n",
    "    # profiler=profiler,\n",
    "    gradient_clip_val=0.0,     # avoid gradient clipping overhead\n",
    ")\n",
    "\n",
    "# ----------------------------\n",
    "# Model to GPU\n",
    "# ----------------------------\n",
    "model = LinearRegressionModel().to(\"cuda\")\n",
    "\n",
    "# ----------------------------\n",
    "# Training\n",
    "# ----------------------------\n",
    "trainer.fit(model, dataloader)"
   ]
  },
  {
   "cell_type": "code",
   "execution_count": 9,
   "id": "f032d357-707a-4157-8622-a7a48d7d97cb",
   "metadata": {
    "scrolled": true
   },
   "outputs": [
    {
     "name": "stderr",
     "output_type": "stream",
     "text": [
      "/tmp/ipykernel_36053/3841331688.py:45: FutureWarning: `torch.cuda.amp.GradScaler(args...)` is deprecated. Please use `torch.amp.GradScaler('cuda', args...)` instead.\n",
      "  scaler = torch.cuda.amp.GradScaler()\n",
      "/tmp/ipykernel_36053/3841331688.py:68: FutureWarning: `torch.cuda.amp.autocast(args...)` is deprecated. Please use `torch.amp.autocast('cuda', args...)` instead.\n",
      "  with torch.cuda.amp.autocast():\n",
      "/venv/main/lib/python3.12/site-packages/torch/nn/modules/loss.py:610: UserWarning: Using a target size (torch.Size([32768])) that is different to the input size (torch.Size([32768, 1])). This will likely lead to incorrect results due to broadcasting. Please ensure they have the same size.\n",
      "  return F.mse_loss(input, target, reduction=self.reduction)\n"
     ]
    },
    {
     "name": "stdout",
     "output_type": "stream",
     "text": [
      "Step 1000: Avg IPS over last 1000 steps = 541.73\n",
      "Step 2000: Avg IPS over last 1000 steps = 462.66\n",
      "Step 3000: Avg IPS over last 1000 steps = 411.61\n",
      "Step 4000: Avg IPS over last 1000 steps = 351.45\n",
      "Step 5000: Avg IPS over last 1000 steps = 405.42\n",
      "Step 6000: Avg IPS over last 1000 steps = 424.06\n",
      "Step 7000: Avg IPS over last 1000 steps = 446.51\n",
      "Step 8000: Avg IPS over last 1000 steps = 428.11\n",
      "Step 9000: Avg IPS over last 1000 steps = 447.23\n",
      "Step 10000: Avg IPS over last 1000 steps = 401.10\n",
      "Step 11000: Avg IPS over last 1000 steps = 479.73\n",
      "Step 12000: Avg IPS over last 1000 steps = 541.13\n",
      "Step 13000: Avg IPS over last 1000 steps = 489.01\n",
      "Step 14000: Avg IPS over last 1000 steps = 476.63\n",
      "Step 15000: Avg IPS over last 1000 steps = 421.62\n",
      "Training complete. Total steps: 15118, Total time: 582.0803904533386, Overall Avg IPS: 25.97\n"
     ]
    },
    {
     "name": "stderr",
     "output_type": "stream",
     "text": [
      "/venv/main/lib/python3.12/site-packages/torch/nn/modules/loss.py:610: UserWarning: Using a target size (torch.Size([28096])) that is different to the input size (torch.Size([28096, 1])). This will likely lead to incorrect results due to broadcasting. Please ensure they have the same size.\n",
      "  return F.mse_loss(input, target, reduction=self.reduction)\n"
     ]
    }
   ],
   "source": [
    "import torch\n",
    "from torch import nn\n",
    "from torch.utils.data import DataLoader\n",
    "import time\n",
    "\n",
    "# ----------------------------\n",
    "# Parameters\n",
    "# ----------------------------\n",
    "input_dim = 32      # adjust to match your dataset\n",
    "output_dim = 1     # adjust to match your dataset\n",
    "batch_size = 8192 * 4  # 32768\n",
    "device = \"cuda\" if torch.cuda.is_available() else \"cpu\"\n",
    "\n",
    "# ----------------------------\n",
    "# DataLoader\n",
    "# ----------------------------\n",
    "dataloader = DataLoader(\n",
    "    window_tensor_dataset,     # dataset defined outside this script\n",
    "    shuffle=True,\n",
    "    batch_size=batch_size,\n",
    "    num_workers=32,\n",
    "    pin_memory=True,\n",
    "    persistent_workers=True,\n",
    "    prefetch_factor=4,\n",
    ")\n",
    "\n",
    "# ----------------------------\n",
    "# Model\n",
    "# ----------------------------\n",
    "class LinearRegressionModel(nn.Module):\n",
    "    def __init__(self, input_dim, output_dim):\n",
    "        super().__init__()\n",
    "        self.linear = nn.Linear(input_dim, output_dim)\n",
    "\n",
    "    def forward(self, x):\n",
    "        return self.linear(x)\n",
    "\n",
    "model = LinearRegressionModel(input_dim, output_dim).to(device)\n",
    "\n",
    "# ----------------------------\n",
    "# Optimizer & Loss\n",
    "# ----------------------------\n",
    "optimizer = torch.optim.AdamW(model.parameters(), lr=1e-3, fused=True)\n",
    "criterion = nn.MSELoss()\n",
    "scaler = torch.cuda.amp.GradScaler()\n",
    "\n",
    "# ----------------------------\n",
    "# Training loop with average IPS logging every 1000 steps\n",
    "# ----------------------------\n",
    "model.train()\n",
    "total_steps = 0\n",
    "start_time = None\n",
    "step_times = []\n",
    "\n",
    "for epoch in range(1):  # max_epochs=1\n",
    "    for step, (x, y) in enumerate(dataloader):\n",
    "        if start_time is None:\n",
    "            start_time = time.time()\n",
    "        \n",
    "        batch_start = time.time()\n",
    "\n",
    "        x = x.to(device, non_blocking=True)\n",
    "        y = y.to(device, non_blocking=True)  # ensure target shape matches output_dim\n",
    "\n",
    "        optimizer.zero_grad()\n",
    "\n",
    "        # forward + backward with mixed precision\n",
    "        with torch.cuda.amp.autocast():\n",
    "            y_hat = model(x)\n",
    "            loss = criterion(y_hat, y)\n",
    "\n",
    "        scaler.scale(loss).backward()\n",
    "        scaler.step(optimizer)\n",
    "        scaler.update()\n",
    "\n",
    "        # ----------------------------\n",
    "        # IPS logging\n",
    "        # ----------------------------\n",
    "        batch_time = time.time() - batch_start\n",
    "        step_times.append(batch_time)\n",
    "        total_steps += 1\n",
    "\n",
    "        if total_steps % 1000 == 0:\n",
    "            avg_ips = 1000 / sum(step_times[-1000:])\n",
    "            print(f\"Step {total_steps}: Avg IPS over last 1000 steps = {avg_ips:.2f}\")\n",
    "\n",
    "# ----------------------------\n",
    "# Final average IPS\n",
    "# ----------------------------\n",
    "total_time = time.time() - start_time\n",
    "overall_avg_ips = total_steps / total_time\n",
    "print(f\"Training complete. Total steps: {total_steps}, Total time: {total_time}, Overall Avg IPS: {overall_avg_ips:.2f}\")\n"
   ]
  },
  {
   "cell_type": "code",
   "execution_count": 10,
   "id": "c067a29d-f8ce-46a4-b2c1-653526e54c5b",
   "metadata": {},
   "outputs": [
    {
     "data": {
      "text/plain": [
       "9.7"
      ]
     },
     "execution_count": 10,
     "metadata": {},
     "output_type": "execute_result"
    }
   ],
   "source": [
    "582 / 60"
   ]
  },
  {
   "cell_type": "code",
   "execution_count": null,
   "id": "78f121b5-b32e-4b6d-8c0c-4882c8b48681",
   "metadata": {},
   "outputs": [],
   "source": []
  }
 ],
 "metadata": {
  "kernelspec": {
   "display_name": "Python3 (ipykernel)",
   "language": "python",
   "name": "python3"
  },
  "language_info": {
   "codemirror_mode": {
    "name": "ipython",
    "version": 3
   },
   "file_extension": ".py",
   "mimetype": "text/x-python",
   "name": "python",
   "nbconvert_exporter": "python",
   "pygments_lexer": "ipython3",
   "version": "3.12.11"
  }
 },
 "nbformat": 4,
 "nbformat_minor": 5
}
