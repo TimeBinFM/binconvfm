{
 "cells": [
  {
   "cell_type": "code",
   "execution_count": 9,
   "id": "8e085f5f-5fb9-4730-8a8f-7b220c57badb",
   "metadata": {},
   "outputs": [],
   "source": [
    "import sys\n",
    "import os\n",
    "import itertools\n",
    "from torch.utils.data import Dataset, DataLoader, IterableDataset\n",
    "import torch\n",
    "\n",
    "from binconvfm.utils.download.gift_eval import list_arrow_files, PostProcessingDataset\n",
    "from binconvfm.models.lstm import LSTMForecaster"
   ]
  },
  {
   "cell_type": "code",
   "execution_count": 18,
   "id": "745482da-b14f-438f-8271-94f7d2fe873d",
   "metadata": {},
   "outputs": [],
   "source": [
    "class FirstNDataset(IterableDataset):\n",
    "    def __init__(self, dataset, n):\n",
    "        super().__init__()\n",
    "        self.dataset = dataset\n",
    "        self.n = n\n",
    "\n",
    "    def __iter__(self):\n",
    "        return iter(itertools.islice(self.dataset, self.n))"
   ]
  },
  {
   "cell_type": "code",
   "execution_count": 44,
   "id": "b1fd2ca3-9d52-4abe-9b92-073317a34a70",
   "metadata": {},
   "outputs": [],
   "source": [
    "num_files = 1\n",
    "\n",
    "pretrain_file_names = list_arrow_files(\"Salesforce/GiftEvalPretrain\")\n",
    "ds = PostProcessingDataset(file_names=pretrain_file_names[:num_files])\n",
    "ds = FirstNDataset(ds, 1000)\n",
    "\n",
    "dataloader = DataLoader(ds, shuffle=False, batch_size=None, num_workers=0)"
   ]
  },
  {
   "cell_type": "code",
   "execution_count": 45,
   "id": "617ca9cb-1ea2-49a7-a9cd-ae17e437f21a",
   "metadata": {},
   "outputs": [
    {
     "name": "stderr",
     "output_type": "stream",
     "text": [
      "💡 Tip: For seamless cloud uploads and versioning, try installing [litmodels](https://pypi.org/project/litmodels/) to enable LitModelCheckpoint, which syncs automatically with the Lightning model registry.\n",
      "GPU available: True (mps), used: False\n",
      "TPU available: False, using: 0 TPU cores\n",
      "HPU available: False, using: 0 HPUs\n",
      "💡 Tip: For seamless cloud uploads and versioning, try installing [litmodels](https://pypi.org/project/litmodels/) to enable LitModelCheckpoint, which syncs automatically with the Lightning model registry.\n",
      "GPU available: True (mps), used: False\n",
      "TPU available: False, using: 0 TPU cores\n",
      "HPU available: False, using: 0 HPUs\n",
      "\n",
      "  | Name  | Type | Params | Mode \n",
      "---------------------------------------\n",
      "0 | model | LSTM | 17.2 K | train\n",
      "---------------------------------------\n",
      "17.2 K    Trainable params\n",
      "0         Non-trainable params\n",
      "17.2 K    Total params\n",
      "0.069     Total estimated model params size (MB)\n",
      "3         Modules in train mode\n",
      "0         Modules in eval mode\n"
     ]
    },
    {
     "data": {
      "application/vnd.jupyter.widget-view+json": {
       "model_id": "dbf386d7193a42c594d07481965fd022",
       "version_major": 2,
       "version_minor": 0
      },
      "text/plain": [
       "Training: |                                                                                     | 0/? [00:00<?…"
      ]
     },
     "metadata": {},
     "output_type": "display_data"
    },
    {
     "name": "stderr",
     "output_type": "stream",
     "text": [
      "`Trainer.fit` stopped: `max_epochs=2` reached.\n"
     ]
    }
   ],
   "source": [
    "model = LSTMForecaster(horizon=1, hidden_dim=64, num_epochs=2, logging=True)\n",
    "model.fit(dataloader)"
   ]
  },
  {
   "cell_type": "code",
   "execution_count": 46,
   "id": "776e4ef5-0250-4260-96d0-f427b5f864be",
   "metadata": {},
   "outputs": [
    {
     "data": {
      "application/vnd.jupyter.widget-view+json": {
       "model_id": "6218a096791c4340a3e042b0cb4b8e16",
       "version_major": 2,
       "version_minor": 0
      },
      "text/plain": [
       "Testing: |                                                                                      | 0/? [00:00<?…"
      ]
     },
     "metadata": {},
     "output_type": "display_data"
    },
    {
     "name": "stdout",
     "output_type": "stream",
     "text": [
      "────────────────────────────────────────────────────────────────────────────────────────────────────────────────────────\n",
      "       Test metric             DataLoader 0\n",
      "────────────────────────────────────────────────────────────────────────────────────────────────────────────────────────\n",
      "          crps               86.83729553222656\n",
      "          mase                      nan\n",
      "────────────────────────────────────────────────────────────────────────────────────────────────────────────────────────\n"
     ]
    },
    {
     "data": {
      "text/plain": [
       "[{'mase': nan, 'crps': 86.83729553222656}]"
      ]
     },
     "execution_count": 46,
     "metadata": {},
     "output_type": "execute_result"
    }
   ],
   "source": [
    "metrics = model.evaluate(dataloader)\n",
    "metrics"
   ]
  },
  {
   "cell_type": "code",
   "execution_count": 47,
   "id": "3cee1794-c07b-4a5b-b8af-5d99f69fe619",
   "metadata": {},
   "outputs": [
    {
     "data": {
      "application/vnd.jupyter.widget-view+json": {
       "model_id": "61d72708cee24b1da319e0d89fe48f9f",
       "version_major": 2,
       "version_minor": 0
      },
      "text/plain": [
       "Predicting: |                                                                                   | 0/? [00:00<?…"
      ]
     },
     "metadata": {},
     "output_type": "display_data"
    },
    {
     "data": {
      "text/plain": [
       "(1000, torch.Size([64, 1000, 1, 1]))"
      ]
     },
     "execution_count": 47,
     "metadata": {},
     "output_type": "execute_result"
    }
   ],
   "source": [
    "pred = model.predict(dataloader)\n",
    "len(pred), pred[0].shape"
   ]
  },
  {
   "cell_type": "code",
   "execution_count": null,
   "id": "1da85705-e948-4627-b24b-5584a90563d2",
   "metadata": {},
   "outputs": [],
   "source": []
  }
 ],
 "metadata": {
  "kernelspec": {
   "display_name": "Python 3 (ipykernel)",
   "language": "python",
   "name": "python3"
  },
  "language_info": {
   "codemirror_mode": {
    "name": "ipython",
    "version": 3
   },
   "file_extension": ".py",
   "mimetype": "text/x-python",
   "name": "python",
   "nbconvert_exporter": "python",
   "pygments_lexer": "ipython3",
   "version": "3.11.13"
  }
 },
 "nbformat": 4,
 "nbformat_minor": 5
}
