{
 "cells": [
  {
   "cell_type": "code",
   "execution_count": null,
   "id": "d3d09a3c-564e-4a13-a8ac-b9ad8f0926e2",
   "metadata": {},
   "outputs": [],
   "source": [
    "import sys\n",
    "\n",
    "!git clone https://github.com/TimeBinFM/binconvfm.git\n",
    "%cd binconvfm\n",
    "!{sys.executable} -m pip install ."
   ]
  }
 ],
 "metadata": {
  "kernelspec": {
   "display_name": "Python 3 (ipykernel)",
   "language": "python",
   "name": "python3"
  },
  "language_info": {
   "codemirror_mode": {
    "name": "ipython",
    "version": 3
   },
   "file_extension": ".py",
   "mimetype": "text/x-python",
   "name": "python",
   "nbconvert_exporter": "python",
   "pygments_lexer": "ipython3",
   "version": "3.11.13"
  }
 },
 "nbformat": 4,
 "nbformat_minor": 5
}
