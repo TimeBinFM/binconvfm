{
 "cells": [
  {
   "cell_type": "markdown",
   "id": "6de5db11-3505-48be-929c-f69a26578dc7",
   "metadata": {},
   "source": [
    "# Create a dataset"
   ]
  },
  {
   "cell_type": "code",
   "execution_count": 5,
   "id": "16f2e9a4-6eb2-4d34-b12d-3a17808a9ce1",
   "metadata": {},
   "outputs": [],
   "source": [
    "import sys\n",
    "import os\n",
    "\n",
    "from binconvfm.utils.download.gift_eval import list_arrow_files, PostProcessingDataset\n",
    "from torch.utils.data import Dataset, DataLoader"
   ]
  },
  {
   "cell_type": "code",
   "execution_count": 6,
   "id": "c76b23f4-68df-4d51-bd60-89d795007aa1",
   "metadata": {},
   "outputs": [],
   "source": [
    "dataset_name = \"Salesforce/GiftEvalPretrain\"\n",
    "files_to_process = 4\n",
    "num_workers = 4\n",
    "\n",
    "pretrain_file_names = list_arrow_files(\"Salesforce/GiftEvalPretrain\")\n",
    "ds = PostProcessingDataset(file_names=pretrain_file_names[:files_to_process])\n",
    "\n",
    "dataloader = DataLoader(ds, shuffle=False, batch_size=None, num_workers=num_workers)"
   ]
  },
  {
   "cell_type": "markdown",
   "id": "74545ac9-3be6-44a1-8479-1ca4ebe9adb9",
   "metadata": {},
   "source": [
    "# Define a model"
   ]
  },
  {
   "cell_type": "code",
   "execution_count": 7,
   "id": "43949891-e079-4d25-9096-64d10fb8bf82",
   "metadata": {},
   "outputs": [],
   "source": [
    "import torch\n",
    "from torch.utils.data import Dataset, DataLoader\n",
    "import torch.nn.functional as F\n",
    "import pytorch_lightning as pl\n",
    "from torch import nn\n",
    "\n",
    "class LinearRegressionModel(pl.LightningModule):\n",
    "    def __init__(self):\n",
    "        super().__init__()\n",
    "        self.linear = nn.Linear(32, 1)\n",
    "\n",
    "    def forward(self, x):\n",
    "        # x: [batch_size, 32, 1] => squeeze last dim to [batch_size, 32]\n",
    "        x = x.squeeze(-1)\n",
    "        return self.linear(x)  # Output shape: [batch_size, 1]\n",
    "\n",
    "    def training_step(self, batch, batch_idx):\n",
    "        x, y = batch\n",
    "        x = x.float()\n",
    "        y = y.float()\n",
    "        y = y.squeeze(-1)  # shape: [batch_size, 1]\n",
    "        y_hat = self(x)\n",
    "        loss = F.mse_loss(y_hat, y)\n",
    "        self.log(\"train_loss\", loss)\n",
    "        return loss\n",
    "\n",
    "    def configure_optimizers(self):\n",
    "        return torch.optim.Adam(self.parameters(), lr=1e-3)"
   ]
  },
  {
   "cell_type": "markdown",
   "id": "07bfc01a-10ca-47fd-890a-8258e931a578",
   "metadata": {},
   "source": [
    "# Train a model"
   ]
  },
  {
   "cell_type": "code",
   "execution_count": null,
   "id": "268e5e8a-7e45-44e6-b77c-baac97b49ef3",
   "metadata": {},
   "outputs": [
    {
     "name": "stderr",
     "output_type": "stream",
     "text": [
      "💡 Tip: For seamless cloud uploads and versioning, try installing [litmodels](https://pypi.org/project/litmodels/) to enable LitModelCheckpoint, which syncs automatically with the Lightning model registry.\n",
      "GPU available: False, used: False\n",
      "TPU available: False, using: 0 TPU cores\n",
      "HPU available: False, using: 0 HPUs\n",
      "\n",
      "  | Name   | Type   | Params | Mode \n",
      "------------------------------------------\n",
      "0 | linear | Linear | 33     | train\n",
      "------------------------------------------\n",
      "33        Trainable params\n",
      "0         Non-trainable params\n",
      "33        Total params\n",
      "0.000     Total estimated model params size (MB)\n",
      "1         Modules in train mode\n",
      "0         Modules in eval mode\n"
     ]
    },
    {
     "data": {
      "application/vnd.jupyter.widget-view+json": {
       "model_id": "1d7745a8f80642b1a39e3439c5138302",
       "version_major": 2,
       "version_minor": 0
      },
      "text/plain": [
       "Training: |                                                                                                   …"
      ]
     },
     "metadata": {},
     "output_type": "display_data"
    }
   ],
   "source": [
    "model = LinearRegressionModel()\n",
    "trainer = pl.Trainer(max_epochs=1, accelerator=\"auto\")\n",
    "trainer.fit(model, dataloader)"
   ]
  },
  {
   "cell_type": "markdown",
   "id": "0d802e24-382b-46ca-be4d-944a72528bf2",
   "metadata": {},
   "source": [
    "# Test that a model predicts something"
   ]
  },
  {
   "cell_type": "code",
   "execution_count": null,
   "id": "829c789c-d50b-4575-8fe8-94bb75a982ca",
   "metadata": {},
   "outputs": [],
   "source": [
    "test_loader = DataLoader(ds, shuffle=False, batch_size=None)\n",
    "\n",
    "model.eval()\n",
    "\n",
    "for x, y in test_loader:\n",
    "    with torch.no_grad():\n",
    "        x = x.float()\n",
    "        y_pred = model(x)\n",
    "    print(\"Input:\", x.shape)\n",
    "    print(\"Target:\", y.shape)\n",
    "    break  # Only test one batch"
   ]
  },
  {
   "cell_type": "code",
   "execution_count": null,
   "id": "c4f8d131-c054-4021-9489-2daf55dd02cf",
   "metadata": {},
   "outputs": [],
   "source": []
  }
 ],
 "metadata": {
  "kernelspec": {
   "display_name": "Python 3 (ipykernel)",
   "language": "python",
   "name": "python3"
  },
  "language_info": {
   "codemirror_mode": {
    "name": "ipython",
    "version": 3
   },
   "file_extension": ".py",
   "mimetype": "text/x-python",
   "name": "python",
   "nbconvert_exporter": "python",
   "pygments_lexer": "ipython3",
   "version": "3.11.13"
  }
 },
 "nbformat": 4,
 "nbformat_minor": 5
}
