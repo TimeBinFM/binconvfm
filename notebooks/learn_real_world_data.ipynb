{
 "cells": [
  {
   "cell_type": "markdown",
   "id": "6de5db11-3505-48be-929c-f69a26578dc7",
   "metadata": {},
   "source": [
    "# Create a dataset"
   ]
  },
  {
   "cell_type": "code",
   "execution_count": 1,
   "id": "16f2e9a4-6eb2-4d34-b12d-3a17808a9ce1",
   "metadata": {},
   "outputs": [],
   "source": [
    "import sys\n",
    "import os\n",
    "sys.path.insert(0, os.path.abspath(os.path.join(os.getcwd(), \"..\")))\n",
    "\n",
    "from binconvfm.utils.download.gift_eval import list_arrow_files, PostProcessingDataset\n",
    "from torch.utils.data import Dataset, DataLoader"
   ]
  },
  {
   "cell_type": "code",
   "execution_count": 2,
   "id": "c76b23f4-68df-4d51-bd60-89d795007aa1",
   "metadata": {},
   "outputs": [],
   "source": [
    "dataset_name = \"Salesforce/GiftEvalPretrain\"\n",
    "files_to_process = 16\n",
    "num_workers = 8\n",
    "\n",
    "pretrain_file_names = list_arrow_files(\"Salesforce/GiftEvalPretrain\")\n",
    "ds = PostProcessingDataset(file_names=pretrain_file_names[:files_to_process])\n",
    "\n",
    "dataloader = DataLoader(ds, shuffle=False, batch_size=None, num_workers=num_workers)"
   ]
  },
  {
   "cell_type": "markdown",
   "id": "74545ac9-3be6-44a1-8479-1ca4ebe9adb9",
   "metadata": {},
   "source": [
    "# Define a model"
   ]
  },
  {
   "cell_type": "code",
   "execution_count": 3,
   "id": "43949891-e079-4d25-9096-64d10fb8bf82",
   "metadata": {},
   "outputs": [],
   "source": [
    "import torch\n",
    "from torch.utils.data import Dataset, DataLoader\n",
    "import torch.nn.functional as F\n",
    "import pytorch_lightning as pl\n",
    "from torch import nn\n",
    "\n",
    "class LinearRegressionModel(pl.LightningModule):\n",
    "    def __init__(self):\n",
    "        super().__init__()\n",
    "        self.linear = nn.Linear(32, 1)\n",
    "\n",
    "    def forward(self, x):\n",
    "        # x: [batch_size, 32, 1] => squeeze last dim to [batch_size, 32]\n",
    "        x = x.squeeze(-1)\n",
    "        return self.linear(x)  # Output shape: [batch_size, 1]\n",
    "\n",
    "    def training_step(self, batch, batch_idx):\n",
    "        x, y = batch\n",
    "        x = x.float()\n",
    "        y = y.float()\n",
    "        y = y.squeeze(-1)  # shape: [batch_size, 1]\n",
    "        y_hat = self(x)\n",
    "        loss = F.mse_loss(y_hat, y)\n",
    "        self.log(\"train_loss\", loss)\n",
    "        return loss\n",
    "\n",
    "    def configure_optimizers(self):\n",
    "        return torch.optim.Adam(self.parameters(), lr=1e-3)"
   ]
  },
  {
   "cell_type": "markdown",
   "id": "07bfc01a-10ca-47fd-890a-8258e931a578",
   "metadata": {},
   "source": [
    "# Train a model"
   ]
  },
  {
   "cell_type": "code",
   "execution_count": null,
   "id": "268e5e8a-7e45-44e6-b77c-baac97b49ef3",
   "metadata": {},
   "outputs": [
    {
     "name": "stderr",
     "output_type": "stream",
     "text": [
      "💡 Tip: For seamless cloud uploads and versioning, try installing [litmodels](https://pypi.org/project/litmodels/) to enable LitModelCheckpoint, which syncs automatically with the Lightning model registry.\n",
      "GPU available: True (cuda), used: True\n",
      "TPU available: False, using: 0 TPU cores\n",
      "HPU available: False, using: 0 HPUs\n",
      "/home/aklyukvin/Projects/timeseries-foundational/binconvfm/.venv/lib/python3.11/site-packages/pytorch_lightning/trainer/connectors/logger_connector/logger_connector.py:76: Starting from v1.9.0, `tensorboardX` has been removed as a dependency of the `pytorch_lightning` package, due to potential conflicts with other packages in the ML ecosystem. For this reason, `logger=True` will use `CSVLogger` as the default logger, unless the `tensorboard` or `tensorboardX` packages are found. Please `pip install lightning[extra]` or one of them to enable TensorBoard support by default\n",
      "LOCAL_RANK: 0 - CUDA_VISIBLE_DEVICES: [0]\n",
      "\n",
      "  | Name   | Type   | Params | Mode \n",
      "------------------------------------------\n",
      "0 | linear | Linear | 33     | train\n",
      "------------------------------------------\n",
      "33        Trainable params\n",
      "0         Non-trainable params\n",
      "33        Total params\n",
      "0.000     Total estimated model params size (MB)\n",
      "1         Modules in train mode\n",
      "0         Modules in eval mode\n"
     ]
    },
    {
     "name": "stdout",
     "output_type": "stream",
     "text": [
      "['BEIJING_SUBWAY_30MIN/data-00000-of-00001.arrow', 'HZMETRO/data-00000-of-00001.arrow']['LOS_LOOP/data-00000-of-00001.arrow', 'PEMS03/data-00000-of-00001.arrow']['PEMS04/data-00000-of-00001.arrow', 'PEMS07/data-00000-of-00001.arrow']['Q-TRAFFIC/data-00000-of-00003.arrow', 'Q-TRAFFIC/data-00001-of-00003.arrow']['PEMS08/data-00000-of-00001.arrow', 'PEMS_BAY/data-00000-of-00001.arrow']['alibaba_cluster_trace_2018/data-00000-of-00010.arrow', 'alibaba_cluster_trace_2018/data-00001-of-00010.arrow']['Q-TRAFFIC/data-00002-of-00003.arrow', 'SHMETRO/data-00000-of-00001.arrow']\n",
      "['alibaba_cluster_trace_2018/data-00002-of-00010.arrow', 'alibaba_cluster_trace_2018/data-00003-of-00010.arrow']\n",
      "\n",
      "\n",
      "\n",
      "\n",
      "\n",
      "\n"
     ]
    },
    {
     "data": {
      "application/vnd.jupyter.widget-view+json": {
       "model_id": "a57d5cbb3fa747aaa29003ab0747e5a1",
       "version_major": 2,
       "version_minor": 0
      },
      "text/plain": [
       "data-00000-of-00001.arrow:   0%|          | 0.00/36.4M [00:00<?, ?B/s]"
      ]
     },
     "metadata": {},
     "output_type": "display_data"
    },
    {
     "data": {
      "application/vnd.jupyter.widget-view+json": {
       "model_id": "b1ecd0121f1a4326b86a49429754f511",
       "version_major": 2,
       "version_minor": 0
      },
      "text/plain": [
       "data-00002-of-00010.arrow:   0%|          | 0.00/304M [00:00<?, ?B/s]"
      ]
     },
     "metadata": {},
     "output_type": "display_data"
    },
    {
     "data": {
      "application/vnd.jupyter.widget-view+json": {
       "model_id": "a9522a711e5d4e1799f6e7a29b251e54",
       "version_major": 2,
       "version_minor": 0
      },
      "text/plain": [
       "Training: |                                                                                                   …"
      ]
     },
     "metadata": {},
     "output_type": "display_data"
    },
    {
     "data": {
      "application/vnd.jupyter.widget-view+json": {
       "model_id": "69d3df23ebbf445ea8cc5d86d7281037",
       "version_major": 2,
       "version_minor": 0
      },
      "text/plain": [
       "data-00000-of-00003.arrow:   0%|          | 0.00/353M [00:00<?, ?B/s]"
      ]
     },
     "metadata": {},
     "output_type": "display_data"
    },
    {
     "data": {
      "application/vnd.jupyter.widget-view+json": {
       "model_id": "5cf89aacb5a84f77a0e123381cb62a9c",
       "version_major": 2,
       "version_minor": 0
      },
      "text/plain": [
       "data-00000-of-00010.arrow:   0%|          | 0.00/305M [00:00<?, ?B/s]"
      ]
     },
     "metadata": {},
     "output_type": "display_data"
    },
    {
     "data": {
      "application/vnd.jupyter.widget-view+json": {
       "model_id": "25648177a1f64c00a31652d29fc38239",
       "version_major": 2,
       "version_minor": 0
      },
      "text/plain": [
       "data-00000-of-00001.arrow:   0%|          | 0.00/62.6M [00:00<?, ?B/s]"
      ]
     },
     "metadata": {},
     "output_type": "display_data"
    },
    {
     "data": {
      "application/vnd.jupyter.widget-view+json": {
       "model_id": "7d01d98ed4874e03847e13080e2d493e",
       "version_major": 2,
       "version_minor": 0
      },
      "text/plain": [
       "data-00002-of-00003.arrow:   0%|          | 0.00/353M [00:00<?, ?B/s]"
      ]
     },
     "metadata": {},
     "output_type": "display_data"
    },
    {
     "data": {
      "application/vnd.jupyter.widget-view+json": {
       "model_id": "44ab036bf9f845bf9e58b39b8e9945ca",
       "version_major": 2,
       "version_minor": 0
      },
      "text/plain": [
       "Generating train split: 0 examples [00:00, ? examples/s]"
      ]
     },
     "metadata": {},
     "output_type": "display_data"
    },
    {
     "data": {
      "application/vnd.jupyter.widget-view+json": {
       "model_id": "f68ae106f02b4035a102311fe9acb962",
       "version_major": 2,
       "version_minor": 0
      },
      "text/plain": [
       "data-00000-of-00001.arrow:   0%|          | 0.00/67.8M [00:00<?, ?B/s]"
      ]
     },
     "metadata": {},
     "output_type": "display_data"
    },
    {
     "data": {
      "application/vnd.jupyter.widget-view+json": {
       "model_id": "10e5e207396e4a698b1433edf05e509a",
       "version_major": 2,
       "version_minor": 0
      },
      "text/plain": [
       "Generating train split: 0 examples [00:00, ? examples/s]"
      ]
     },
     "metadata": {},
     "output_type": "display_data"
    },
    {
     "data": {
      "application/vnd.jupyter.widget-view+json": {
       "model_id": "b5c416f0c1f24aa4947741235b785371",
       "version_major": 2,
       "version_minor": 0
      },
      "text/plain": [
       "data-00000-of-00001.arrow:   0%|          | 0.00/99.7M [00:00<?, ?B/s]"
      ]
     },
     "metadata": {},
     "output_type": "display_data"
    },
    {
     "data": {
      "application/vnd.jupyter.widget-view+json": {
       "model_id": "1482a3b15beb4b1593af526172607b86",
       "version_major": 2,
       "version_minor": 0
      },
      "text/plain": [
       "Generating train split: 0 examples [00:00, ? examples/s]"
      ]
     },
     "metadata": {},
     "output_type": "display_data"
    },
    {
     "data": {
      "application/vnd.jupyter.widget-view+json": {
       "model_id": "c1f0943998a7482f9ba6356ef4c3cab6",
       "version_major": 2,
       "version_minor": 0
      },
      "text/plain": [
       "Generating train split: 0 examples [00:00, ? examples/s]"
      ]
     },
     "metadata": {},
     "output_type": "display_data"
    },
    {
     "data": {
      "application/vnd.jupyter.widget-view+json": {
       "model_id": "4545001085ef43e9b5f2946229e253a1",
       "version_major": 2,
       "version_minor": 0
      },
      "text/plain": [
       "Generating train split: 0 examples [00:00, ? examples/s]"
      ]
     },
     "metadata": {},
     "output_type": "display_data"
    },
    {
     "data": {
      "application/vnd.jupyter.widget-view+json": {
       "model_id": "974eb5f4005f4cc9a3ff52b09fcc2b52",
       "version_major": 2,
       "version_minor": 0
      },
      "text/plain": [
       "data-00003-of-00010.arrow:   0%|          | 0.00/305M [00:00<?, ?B/s]"
      ]
     },
     "metadata": {},
     "output_type": "display_data"
    },
    {
     "data": {
      "application/vnd.jupyter.widget-view+json": {
       "model_id": "053306cab53d460d983f94632c265333",
       "version_major": 2,
       "version_minor": 0
      },
      "text/plain": [
       "Generating train split: 0 examples [00:00, ? examples/s]"
      ]
     },
     "metadata": {},
     "output_type": "display_data"
    },
    {
     "data": {
      "application/vnd.jupyter.widget-view+json": {
       "model_id": "bffe634609aa4c3ba90adf5356c3c686",
       "version_major": 2,
       "version_minor": 0
      },
      "text/plain": [
       "data-00001-of-00010.arrow:   0%|          | 0.00/306M [00:00<?, ?B/s]"
      ]
     },
     "metadata": {},
     "output_type": "display_data"
    },
    {
     "data": {
      "application/vnd.jupyter.widget-view+json": {
       "model_id": "0fa64703f5dc4e2abc71fe501db79688",
       "version_major": 2,
       "version_minor": 0
      },
      "text/plain": [
       "Generating train split: 0 examples [00:00, ? examples/s]"
      ]
     },
     "metadata": {},
     "output_type": "display_data"
    },
    {
     "data": {
      "application/vnd.jupyter.widget-view+json": {
       "model_id": "700e5e7318c8485d9daa346339a7658d",
       "version_major": 2,
       "version_minor": 0
      },
      "text/plain": [
       "data-00001-of-00003.arrow:   0%|          | 0.00/353M [00:00<?, ?B/s]"
      ]
     },
     "metadata": {},
     "output_type": "display_data"
    },
    {
     "data": {
      "application/vnd.jupyter.widget-view+json": {
       "model_id": "ae721ee8828f4a4aa891dd10db135916",
       "version_major": 2,
       "version_minor": 0
      },
      "text/plain": [
       "Generating train split: 0 examples [00:00, ? examples/s]"
      ]
     },
     "metadata": {},
     "output_type": "display_data"
    },
    {
     "data": {
      "application/vnd.jupyter.widget-view+json": {
       "model_id": "f9054f82053847f4945c30c40412f437",
       "version_major": 2,
       "version_minor": 0
      },
      "text/plain": [
       "data-00000-of-00001.arrow:   0%|          | 0.00/20.3M [00:00<?, ?B/s]"
      ]
     },
     "metadata": {},
     "output_type": "display_data"
    },
    {
     "data": {
      "application/vnd.jupyter.widget-view+json": {
       "model_id": "8b2cdc935ed645508eb8138b6b79d7d2",
       "version_major": 2,
       "version_minor": 0
      },
      "text/plain": [
       "Generating train split: 0 examples [00:00, ? examples/s]"
      ]
     },
     "metadata": {},
     "output_type": "display_data"
    },
    {
     "data": {
      "application/vnd.jupyter.widget-view+json": {
       "model_id": "33b8354b9a9d4adf9498fddeca936d01",
       "version_major": 2,
       "version_minor": 0
      },
      "text/plain": [
       "Generating train split: 0 examples [00:00, ? examples/s]"
      ]
     },
     "metadata": {},
     "output_type": "display_data"
    },
    {
     "data": {
      "application/vnd.jupyter.widget-view+json": {
       "model_id": "b5024181506b4c53b805b258c77fcf73",
       "version_major": 2,
       "version_minor": 0
      },
      "text/plain": [
       "Generating train split: 0 examples [00:00, ? examples/s]"
      ]
     },
     "metadata": {},
     "output_type": "display_data"
    },
    {
     "data": {
      "application/vnd.jupyter.widget-view+json": {
       "model_id": "009d9c8d1b5d45a8b1b5ae7ee81ea0ab",
       "version_major": 2,
       "version_minor": 0
      },
      "text/plain": [
       "Generating train split: 0 examples [00:00, ? examples/s]"
      ]
     },
     "metadata": {},
     "output_type": "display_data"
    }
   ],
   "source": [
    "model = LinearRegressionModel()\n",
    "trainer = pl.Trainer(max_epochs=1, accelerator=\"auto\")\n",
    "trainer.fit(model, dataloader)"
   ]
  },
  {
   "cell_type": "markdown",
   "id": "0d802e24-382b-46ca-be4d-944a72528bf2",
   "metadata": {},
   "source": [
    "# Test that a model predicts something"
   ]
  },
  {
   "cell_type": "code",
   "execution_count": null,
   "id": "829c789c-d50b-4575-8fe8-94bb75a982ca",
   "metadata": {},
   "outputs": [],
   "source": [
    "test_loader = DataLoader(ds, shuffle=False, batch_size=None)\n",
    "\n",
    "model.eval()\n",
    "\n",
    "for x, y in test_loader:\n",
    "    with torch.no_grad():\n",
    "        x = x.float()\n",
    "        y_pred = model(x)\n",
    "    print(\"Input:\", x.shape)\n",
    "    print(\"Target:\", y.shape)\n",
    "    break  # Only test one batch"
   ]
  },
  {
   "cell_type": "code",
   "execution_count": null,
   "id": "c4f8d131-c054-4021-9489-2daf55dd02cf",
   "metadata": {},
   "outputs": [],
   "source": []
  }
 ],
 "metadata": {
  "kernelspec": {
   "display_name": "Python 3 (ipykernel)",
   "language": "python",
   "name": "python3"
  },
  "language_info": {
   "codemirror_mode": {
    "name": "ipython",
    "version": 3
   },
   "file_extension": ".py",
   "mimetype": "text/x-python",
   "name": "python",
   "nbconvert_exporter": "python",
   "pygments_lexer": "ipython3",
   "version": "3.11.13"
  }
 },
 "nbformat": 4,
 "nbformat_minor": 5
}
